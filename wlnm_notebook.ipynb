{
 "cells": [
  {
   "cell_type": "markdown",
   "metadata": {},
   "source": [
    "# Weisfeiler-Lehman Neural Machine for Link Prediction"
   ]
  },
  {
   "cell_type": "markdown",
   "metadata": {},
   "source": [
    "## Importing the library"
   ]
  },
  {
   "cell_type": "code",
   "execution_count": 1,
   "metadata": {},
   "outputs": [],
   "source": [
    "import networkx as nx\n",
    "import scipy.sparse\n",
    "import matplotlib.pyplot as plt\n",
    "import numpy as np\n",
    "import scipy.io\n",
    "import math\n",
    "import pandas as pd"
   ]
  },
  {
   "cell_type": "markdown",
   "metadata": {},
   "source": [
    "## Importing the dataset"
   ]
  },
  {
   "cell_type": "code",
   "execution_count": 2,
   "metadata": {},
   "outputs": [],
   "source": [
    "data = scipy.io.loadmat('data/USAir.mat')"
   ]
  },
  {
   "cell_type": "code",
   "execution_count": 3,
   "metadata": {},
   "outputs": [
    {
     "data": {
      "text/plain": [
       "{'__header__': b'MATLAB 5.0 MAT-file, Platform: GLNXA64, Created on: Thu Oct 20 12:21:53 2016',\n",
       " '__version__': '1.0',\n",
       " '__globals__': [],\n",
       " 'net': <332x332 sparse matrix of type '<class 'numpy.float64'>'\n",
       " \twith 4252 stored elements in Compressed Sparse Column format>}"
      ]
     },
     "execution_count": 3,
     "metadata": {},
     "output_type": "execute_result"
    }
   ],
   "source": [
    "data"
   ]
  },
  {
   "cell_type": "markdown",
   "metadata": {},
   "source": [
    "## Create a graph from the adjacency matrix"
   ]
  },
  {
   "cell_type": "code",
   "execution_count": 4,
   "metadata": {},
   "outputs": [],
   "source": [
    "network = nx.from_numpy_matrix(data['net'].todense())"
   ]
  },
  {
   "cell_type": "code",
   "execution_count": 5,
   "metadata": {},
   "outputs": [
    {
     "data": {
      "text/plain": [
       "(332, 2126)"
      ]
     },
     "execution_count": 5,
     "metadata": {},
     "output_type": "execute_result"
    }
   ],
   "source": [
    "network.number_of_nodes(), network.number_of_edges()"
   ]
  },
  {
   "cell_type": "markdown",
   "metadata": {},
   "source": [
    "## Dividing the network into the training and test networks"
   ]
  },
  {
   "cell_type": "code",
   "execution_count": 6,
   "metadata": {},
   "outputs": [],
   "source": [
    "network_train = network.copy()\n",
    "network_test = nx.empty_graph(network_train.number_of_nodes())"
   ]
  },
  {
   "cell_type": "code",
   "execution_count": 7,
   "metadata": {},
   "outputs": [],
   "source": [
    "test_ratio = 0.1\n",
    "n_links = network_train.number_of_edges()\n",
    "n_links_test = math.ceil(test_ratio * n_links)"
   ]
  },
  {
   "cell_type": "code",
   "execution_count": 8,
   "metadata": {},
   "outputs": [
    {
     "data": {
      "text/plain": [
       "213"
      ]
     },
     "execution_count": 8,
     "metadata": {},
     "output_type": "execute_result"
    }
   ],
   "source": [
    "n_links_test"
   ]
  },
  {
   "cell_type": "code",
   "execution_count": 9,
   "metadata": {},
   "outputs": [],
   "source": [
    "selected_links_id = np.random.choice(np.arange(n_links), size=n_links_test, replace=False)"
   ]
  },
  {
   "cell_type": "code",
   "execution_count": 10,
   "metadata": {},
   "outputs": [],
   "source": [
    "network_adj_matrix = nx.adj_matrix(network)\n",
    "network_adj_matrix = scipy.sparse.triu(network_adj_matrix, k=1)\n",
    "row_index, col_index = network_adj_matrix.nonzero()\n",
    "links = [(x, y) for x, y in zip(row_index, col_index)]"
   ]
  },
  {
   "cell_type": "code",
   "execution_count": 11,
   "metadata": {},
   "outputs": [],
   "source": [
    "selected_links = []\n",
    "for link_id in selected_links_id:\n",
    "    selected_links.append(links[link_id])\n",
    "network_train.remove_edges_from(selected_links)\n",
    "network_test.add_edges_from(selected_links)"
   ]
  },
  {
   "cell_type": "code",
   "execution_count": 12,
   "metadata": {},
   "outputs": [
    {
     "data": {
      "text/plain": [
       "(1913, 213)"
      ]
     },
     "execution_count": 12,
     "metadata": {},
     "output_type": "execute_result"
    }
   ],
   "source": [
    "network_train.number_of_edges(), network_test.number_of_edges()"
   ]
  },
  {
   "cell_type": "markdown",
   "metadata": {},
   "source": [
    "## Sampling negative links"
   ]
  },
  {
   "cell_type": "code",
   "execution_count": 13,
   "metadata": {},
   "outputs": [],
   "source": [
    "k = 2\n",
    "n_links_train_pos = network_train.number_of_edges()\n",
    "n_links_test_pos = network_test.number_of_edges()\n",
    "n_links_train_neg = k * n_links_train_pos\n",
    "n_links_test_neg = k * n_links_test_pos"
   ]
  },
  {
   "cell_type": "code",
   "execution_count": 14,
   "metadata": {},
   "outputs": [],
   "source": [
    "neg_network = nx.empty_graph(network.number_of_nodes())\n",
    "links_neg = list(nx.non_edges(network))\n",
    "neg_network.add_edges_from(links_neg)"
   ]
  },
  {
   "cell_type": "code",
   "execution_count": 15,
   "metadata": {},
   "outputs": [
    {
     "data": {
      "text/plain": [
       "52820"
      ]
     },
     "execution_count": 15,
     "metadata": {},
     "output_type": "execute_result"
    }
   ],
   "source": [
    "n_links_neg = neg_network.number_of_edges()\n",
    "n_links_neg"
   ]
  },
  {
   "cell_type": "code",
   "execution_count": 16,
   "metadata": {},
   "outputs": [],
   "source": [
    "selected_links_neg_id = np.random.choice(np.arange(n_links_neg), size=n_links_train_neg + n_links_test_neg, replace=False)"
   ]
  },
  {
   "cell_type": "code",
   "execution_count": 17,
   "metadata": {},
   "outputs": [],
   "source": [
    "neg_network_train = nx.empty_graph(network.number_of_nodes())\n",
    "neg_network_test = nx.empty_graph(network.number_of_nodes())"
   ]
  },
  {
   "cell_type": "code",
   "execution_count": 18,
   "metadata": {},
   "outputs": [],
   "source": [
    "selected_links = []\n",
    "for i in range(n_links_train_neg):\n",
    "    link_id = selected_links_neg_id[i]\n",
    "    selected_links.append(links_neg[link_id])\n",
    "neg_network_train.add_edges_from(selected_links)\n",
    "\n",
    "selected_links = []\n",
    "for i in range(n_links_train_neg, n_links_train_neg + n_links_test_neg):\n",
    "    link_id = selected_links_neg_id[i]\n",
    "    selected_links.append(links_neg[link_id])\n",
    "neg_network_test.add_edges_from(selected_links)"
   ]
  },
  {
   "cell_type": "code",
   "execution_count": 19,
   "metadata": {},
   "outputs": [
    {
     "data": {
      "text/plain": [
       "(332, 332)"
      ]
     },
     "execution_count": 19,
     "metadata": {},
     "output_type": "execute_result"
    }
   ],
   "source": [
    "neg_network_train.number_of_nodes(), neg_network_test.number_of_nodes()"
   ]
  },
  {
   "cell_type": "code",
   "execution_count": 20,
   "metadata": {},
   "outputs": [
    {
     "data": {
      "text/plain": [
       "(3826, 426)"
      ]
     },
     "execution_count": 20,
     "metadata": {},
     "output_type": "execute_result"
    }
   ],
   "source": [
    "neg_network_train.number_of_edges(), neg_network_test.number_of_edges()"
   ]
  },
  {
   "cell_type": "markdown",
   "metadata": {},
   "source": [
    "## Grouping training and test links"
   ]
  },
  {
   "cell_type": "code",
   "execution_count": 21,
   "metadata": {},
   "outputs": [],
   "source": [
    "all_links_train = list(network_train.edges) + list(neg_network_train.edges)\n",
    "label_train = [1] * len(network_train.edges) + [0] * len(neg_network_train.edges)"
   ]
  },
  {
   "cell_type": "code",
   "execution_count": 22,
   "metadata": {},
   "outputs": [],
   "source": [
    "all_links_test = list(network_test.edges) + list(neg_network_test.edges)\n",
    "label_test = [1] * len(network_test.edges) + [0] * len(neg_network_test.edges)"
   ]
  },
  {
   "cell_type": "code",
   "execution_count": 23,
   "metadata": {},
   "outputs": [],
   "source": [
    "y_train, y_test = np.array(label_train), np.array(label_test)"
   ]
  },
  {
   "cell_type": "markdown",
   "metadata": {},
   "source": [
    "## Extracting enclosing subgraph for each links"
   ]
  },
  {
   "cell_type": "code",
   "execution_count": 25,
   "metadata": {},
   "outputs": [
    {
     "data": {
      "text/plain": [
       "(5, 12)"
      ]
     },
     "execution_count": 25,
     "metadata": {},
     "output_type": "execute_result"
    }
   ],
   "source": [
    "link = all_links_train[12]\n",
    "link"
   ]
  },
  {
   "cell_type": "code",
   "execution_count": 26,
   "metadata": {},
   "outputs": [],
   "source": [
    "fringe = [link]\n",
    "subgraph = nx.Graph()"
   ]
  },
  {
   "cell_type": "code",
   "execution_count": 27,
   "metadata": {},
   "outputs": [],
   "source": [
    "def enclosing_subgraph(fringe, network, subgraph, distance):\n",
    "    neighbor_links = []\n",
    "    for link in fringe:\n",
    "        u = link[0]\n",
    "        v = link[1]\n",
    "        neighbor_links = neighbor_links + list(network.edges(u))\n",
    "        neighbor_links = neighbor_links + list(network.edges(v))\n",
    "    tmp_subgraph = subgraph.copy()\n",
    "    tmp_subgraph.add_edges_from(neighbor_links)\n",
    "    # Remove duplicate and existed edge\n",
    "    neighbor_links = [li for li in tmp_subgraph.edges() if li not in subgraph.edges()]\n",
    "    tmp_subgraph = subgraph.copy()\n",
    "    tmp_subgraph.add_edges_from(neighbor_links, distance=distance, inverse_distance=1/distance)\n",
    "    return neighbor_links, tmp_subgraph"
   ]
  },
  {
   "cell_type": "code",
   "execution_count": 28,
   "metadata": {},
   "outputs": [
    {
     "data": {
      "image/png": "[encoded data removed]",
      "text/plain": [
       "<Figure size 432x288 with 1 Axes>"
      ]
     },
     "metadata": {},
     "output_type": "display_data"
    }
   ],
   "source": [
    "fringe, subgraph = enclosing_subgraph(fringe, network_train, subgraph, distance=1)\n",
    "nx.draw(subgraph, with_labels=True);"
   ]
  },
  {
   "cell_type": "code",
   "execution_count": 29,
   "metadata": {},
   "outputs": [],
   "source": [
    "def extract_enclosing_subgraph(link, network, size=10):\n",
    "    fringe = [link]\n",
    "    subgraph = nx.Graph()\n",
    "    distance = 0\n",
    "    subgraph.add_edge(link[0], link[1], distance=distance)\n",
    "    while subgraph.number_of_nodes() < size and len(fringe) > 0:\n",
    "        distance += 1\n",
    "        fringe, subgraph = enclosing_subgraph(fringe, network, subgraph, distance)\n",
    "    \n",
    "    tmp_subgraph = network.subgraph(subgraph.nodes)\n",
    "    additional_edges = [li for li in tmp_subgraph.edges if li not in subgraph.edges]\n",
    "    subgraph.add_edges_from(additional_edges, distance=distance+1, inverse_distance=1/(distance+1))\n",
    "    return subgraph"
   ]
  },
  {
   "cell_type": "code",
   "execution_count": 30,
   "metadata": {},
   "outputs": [
    {
     "data": {
      "image/png": "[encoded data removed]",
      "text/plain": [
       "<Figure size 432x288 with 1 Axes>"
      ]
     },
     "metadata": {},
     "output_type": "display_data"
    }
   ],
   "source": [
    "e_subgraph = extract_enclosing_subgraph(link, network_train)\n",
    "nx.draw(e_subgraph, with_labels=True)"
   ]
  },
  {
   "cell_type": "code",
   "execution_count": 31,
   "metadata": {},
   "outputs": [
    {
     "data": {
      "text/plain": [
       "AtlasView({5: {'distance': 1, 'inverse_distance': 1.0}, 12: {'distance': 1, 'inverse_distance': 1.0}, 7: {'distance': 2, 'inverse_distance': 0.5}})"
      ]
     },
     "execution_count": 31,
     "metadata": {},
     "output_type": "execute_result"
    }
   ],
   "source": [
    "e_subgraph[6]"
   ]
  },
  {
   "cell_type": "code",
   "execution_count": 31,
   "metadata": {},
   "outputs": [
    {
     "name": "stdout",
     "output_type": "stream",
     "text": [
      "227 µs ± 3.72 µs per loop (mean ± std. dev. of 7 runs, 1000 loops each)\n"
     ]
    }
   ],
   "source": [
    "%%timeit\n",
    "extract_enclosing_subgraph(link, network_train)"
   ]
  },
  {
   "cell_type": "code",
   "execution_count": 32,
   "metadata": {},
   "outputs": [
    {
     "name": "stdout",
     "output_type": "stream",
     "text": [
      "15.7 s ± 97.1 ms per loop (mean ± std. dev. of 7 runs, 1 loop each)\n"
     ]
    }
   ],
   "source": [
    "%%timeit\n",
    "for link in all_links_train:\n",
    "    e_subgraph = extract_enclosing_subgraph(link, network_train)"
   ]
  },
  {
   "cell_type": "markdown",
   "metadata": {},
   "source": [
    "## Subgraph encoding\n",
    "### Palette-WL for vertex ordering"
   ]
  },
  {
   "cell_type": "code",
   "execution_count": 32,
   "metadata": {},
   "outputs": [],
   "source": [
    "def compute_geometric_mean_distance(subgraph, link):\n",
    "    u = link[0]\n",
    "    v = link[1]\n",
    "    subgraph.remove_edge(u, v)\n",
    "    \n",
    "    n_nodes = subgraph.number_of_nodes()\n",
    "    u_reachable = nx.descendants(subgraph, source=u)\n",
    "    v_reachable = nx.descendants(subgraph, source=v)\n",
    "#     print(u_reachable, v_reachable)\n",
    "    for node in subgraph.nodes:\n",
    "        distance_to_u = 0\n",
    "        distance_to_v = 0\n",
    "        if node != u:\n",
    "            distance_to_u = nx.shortest_path_length(subgraph, source=node, target=u) if node in u_reachable else 2 ** n_nodes\n",
    "        if node != v:\n",
    "            distance_to_v = nx.shortest_path_length(subgraph, source=node, target=v) if node in v_reachable else 2 ** n_nodes\n",
    "        subgraph.nodes[node]['avg_dist'] = math.sqrt(distance_to_u * distance_to_v)\n",
    "    \n",
    "    subgraph.add_edge(u, v, distance=0)\n",
    "    \n",
    "    return subgraph"
   ]
  },
  {
   "cell_type": "code",
   "execution_count": 33,
   "metadata": {},
   "outputs": [],
   "source": [
    "e_subgraph = compute_geometric_mean_distance(e_subgraph, link)"
   ]
  },
  {
   "cell_type": "code",
   "execution_count": 34,
   "metadata": {},
   "outputs": [
    {
     "data": {
      "text/plain": [
       "{5: 0.0,\n",
       " 12: 0.0,\n",
       " 6: 1.0,\n",
       " 7: 1.0,\n",
       " 8: 1.7320508075688772,\n",
       " 9: 1.7320508075688772,\n",
       " 10: 1.7320508075688772,\n",
       " 13: 1.7320508075688772,\n",
       " 14: 1.7320508075688772,\n",
       " 16: 1.7320508075688772,\n",
       " 17: 1.7320508075688772,\n",
       " 18: 1.7320508075688772,\n",
       " 19: 1.7320508075688772,\n",
       " 20: 1.7320508075688772}"
      ]
     },
     "execution_count": 34,
     "metadata": {},
     "output_type": "execute_result"
    }
   ],
   "source": [
    "avg_dist = nx.get_node_attributes(e_subgraph, 'avg_dist')\n",
    "avg_dist"
   ]
  },
  {
   "cell_type": "code",
   "execution_count": 35,
   "metadata": {},
   "outputs": [],
   "source": [
    "def prime(x):\n",
    "    if x < 2:\n",
    "        return False\n",
    "    if x == 2 or x == 3:\n",
    "        return True\n",
    "    for i in range(2, x):\n",
    "        if x % i == 0:\n",
    "            return False\n",
    "    return True"
   ]
  },
  {
   "cell_type": "code",
   "execution_count": 36,
   "metadata": {},
   "outputs": [],
   "source": [
    "prime_numbers = np.array([i for i in range (10000) if prime(i)], dtype=np.int)"
   ]
  },
  {
   "cell_type": "code",
   "execution_count": 37,
   "metadata": {},
   "outputs": [
    {
     "data": {
      "text/plain": [
       "(1229,)"
      ]
     },
     "execution_count": 37,
     "metadata": {},
     "output_type": "execute_result"
    }
   ],
   "source": [
    "prime_numbers.shape"
   ]
  },
  {
   "cell_type": "code",
   "execution_count": 38,
   "metadata": {},
   "outputs": [],
   "source": [
    "def palette_wl(subgraph, link):\n",
    "    tmp_subgraph = subgraph.copy()\n",
    "    if tmp_subgraph.has_edge(link[0], link[1]):\n",
    "        tmp_subgraph.remove_edge(link[0], link[1])\n",
    "    avg_dist = nx.get_node_attributes(tmp_subgraph, 'avg_dist')\n",
    "    \n",
    "    df = pd.DataFrame.from_dict(avg_dist, orient='index', columns=['hash_value'])\n",
    "    df = df.sort_index()\n",
    "    df['order'] = df['hash_value'].rank(axis=0, method='min').astype(np.int)\n",
    "    df['previous_order'] = np.zeros(df.shape[0], dtype=np.int)\n",
    "    adj_matrix = nx.adj_matrix(tmp_subgraph, nodelist=sorted(tmp_subgraph.nodes)).todense()\n",
    "    while any(df.order != df.previous_order):\n",
    "        df['log_prime'] = np.log(prime_numbers[df['order'].values])\n",
    "        total_log_primes = np.ceil(np.sum(df.log_prime.values))\n",
    "        df['hash_value'] = adj_matrix * df.log_prime.values.reshape(-1, 1) / total_log_primes + df.order.values.reshape(-1, 1)\n",
    "        df.previous_order = df.order\n",
    "        df.order = df.hash_value.rank(axis=0, method='min').astype(np.int)\n",
    "    nodelist = df.order.sort_values().index.values\n",
    "    return nodelist"
   ]
  },
  {
   "cell_type": "code",
   "execution_count": 39,
   "metadata": {},
   "outputs": [
    {
     "data": {
      "text/plain": [
       "array([ 5, 12,  6,  7, 13, 14, 17, 20,  8,  9, 10, 16, 18, 19])"
      ]
     },
     "execution_count": 39,
     "metadata": {},
     "output_type": "execute_result"
    }
   ],
   "source": [
    "nodelist = palette_wl(e_subgraph, link)\n",
    "nodelist"
   ]
  },
  {
   "cell_type": "code",
   "execution_count": 40,
   "metadata": {},
   "outputs": [],
   "source": [
    "size = 10\n",
    "if len(nodelist) > size:\n",
    "    nodelist = nodelist[:size]\n",
    "    e_subgraph = e_subgraph.subgraph(nodelist)\n",
    "    nodelist = palette_wl(e_subgraph, link)"
   ]
  },
  {
   "cell_type": "code",
   "execution_count": 41,
   "metadata": {},
   "outputs": [
    {
     "data": {
      "text/plain": [
       "array([ 5, 12,  6,  7, 13, 14, 17, 20,  8,  9])"
      ]
     },
     "execution_count": 41,
     "metadata": {},
     "output_type": "execute_result"
    }
   ],
   "source": [
    "nodelist"
   ]
  },
  {
   "cell_type": "code",
   "execution_count": 42,
   "metadata": {},
   "outputs": [
    {
     "data": {
      "image/png": "[encoded data removed]",
      "text/plain": [
       "<Figure size 432x288 with 1 Axes>"
      ]
     },
     "metadata": {},
     "output_type": "display_data"
    }
   ],
   "source": [
    "nx.draw(e_subgraph, with_labels=True);"
   ]
  },
  {
   "cell_type": "code",
   "execution_count": 43,
   "metadata": {},
   "outputs": [
    {
     "data": {
      "text/plain": [
       "{'avg_dist': 1.0}"
      ]
     },
     "execution_count": 43,
     "metadata": {},
     "output_type": "execute_result"
    }
   ],
   "source": [
    "e_subgraph.nodes[7]"
   ]
  },
  {
   "cell_type": "markdown",
   "metadata": {},
   "source": [
    "### Represent enclosing subgraphs as adjacency matrices"
   ]
  },
  {
   "cell_type": "code",
   "execution_count": 44,
   "metadata": {},
   "outputs": [],
   "source": [
    "def sample(subgraph, nodelist, weight='weight', size=10):\n",
    "    adj_matrix = nx.adj_matrix(subgraph, weight=weight, nodelist=nodelist).todense()\n",
    "    vector = np.asarray(adj_matrix)[np.triu_indices(len(adj_matrix), k=1)]\n",
    "    d = size * (size - 1) // 2\n",
    "    if len(vector) < d:\n",
    "        vector = np.append(vector, np.zeros(d - len(vector)))\n",
    "    return vector[1:]"
   ]
  },
  {
   "cell_type": "code",
   "execution_count": 45,
   "metadata": {},
   "outputs": [
    {
     "data": {
      "text/plain": [
       "array([1, 1, 0, 0, 0, 0, 0, 0, 1, 1, 1, 1, 1, 1, 1, 1, 1, 0, 0, 0, 0, 0,\n",
       "       0, 0, 0, 0, 0, 0, 0, 0, 0, 0, 0, 0, 0, 0, 0, 0, 0, 0, 0, 0, 0, 1],\n",
       "      dtype=int64)"
      ]
     },
     "execution_count": 45,
     "metadata": {},
     "output_type": "execute_result"
    }
   ],
   "source": [
    "sample(e_subgraph, nodelist, size=10)"
   ]
  },
  {
   "cell_type": "markdown",
   "metadata": {},
   "source": [
    "### Subgraph encoding test"
   ]
  },
  {
   "cell_type": "code",
   "execution_count": 46,
   "metadata": {},
   "outputs": [
    {
     "data": {
      "text/plain": [
       "(5, 12)"
      ]
     },
     "execution_count": 46,
     "metadata": {},
     "output_type": "execute_result"
    }
   ],
   "source": [
    "link"
   ]
  },
  {
   "cell_type": "code",
   "execution_count": 47,
   "metadata": {},
   "outputs": [],
   "source": [
    "e_subgraph = extract_enclosing_subgraph(link, network_train, size=10)\n",
    "e_subgraph = compute_geometric_mean_distance(e_subgraph, link)\n",
    "nodelist = palette_wl(e_subgraph, link)\n",
    "if len(nodelist) > size:\n",
    "    nodelist = nodelist[:size]\n",
    "    e_subgraph = e_subgraph.subgraph(nodelist)\n",
    "    nodelist = palette_wl(e_subgraph, link)\n",
    "embeded = sample(e_subgraph, nodelist, size=10)"
   ]
  },
  {
   "cell_type": "code",
   "execution_count": 48,
   "metadata": {},
   "outputs": [
    {
     "data": {
      "text/plain": [
       "array([1, 1, 0, 0, 0, 0, 0, 0, 1, 1, 1, 1, 1, 1, 1, 1, 1, 0, 0, 0, 0, 0,\n",
       "       0, 0, 0, 0, 0, 0, 0, 0, 0, 0, 0, 0, 0, 0, 0, 0, 0, 0, 0, 0, 0, 1],\n",
       "      dtype=int64)"
      ]
     },
     "execution_count": 48,
     "metadata": {},
     "output_type": "execute_result"
    }
   ],
   "source": [
    "embeded"
   ]
  },
  {
   "cell_type": "markdown",
   "metadata": {},
   "source": [
    "## Enclosing subgraph encoding for each links"
   ]
  },
  {
   "cell_type": "code",
   "execution_count": 49,
   "metadata": {},
   "outputs": [],
   "source": [
    "def encode_link(link, network, weight='weight', size=10):\n",
    "    e_subgraph = extract_enclosing_subgraph(link, network, size=size)\n",
    "    e_subgraph = compute_geometric_mean_distance(e_subgraph, link)\n",
    "    nodelist = palette_wl(e_subgraph, link)\n",
    "    if len(nodelist) > size:\n",
    "        nodelist = nodelist[:size]\n",
    "        e_subgraph = e_subgraph.subgraph(nodelist)\n",
    "        nodelist = palette_wl(e_subgraph, link)\n",
    "    embeded_link = sample(e_subgraph, nodelist, weight=weight, size=size)\n",
    "    return embeded_link"
   ]
  },
  {
   "cell_type": "code",
   "execution_count": 50,
   "metadata": {},
   "outputs": [],
   "source": [
    "from functools import partial"
   ]
  },
  {
   "cell_type": "code",
   "execution_count": 52,
   "metadata": {},
   "outputs": [
    {
     "name": "stdout",
     "output_type": "stream",
     "text": [
      "1min 55s ± 681 ms per loop (mean ± std. dev. of 7 runs, 1 loop each)\n"
     ]
    }
   ],
   "source": [
    "%%timeit\n",
    "np.array(list(map(partial(encode_link, network=network_train, weight='inverse_distance', size=10), all_links_train)))"
   ]
  },
  {
   "cell_type": "code",
   "execution_count": 73,
   "metadata": {},
   "outputs": [],
   "source": [
    "X_train = np.array(list(map(partial(encode_link, network=network_train, weight='weight', size=10), all_links_train)))"
   ]
  },
  {
   "cell_type": "code",
   "execution_count": 74,
   "metadata": {},
   "outputs": [
    {
     "data": {
      "text/plain": [
       "(5739, 44)"
      ]
     },
     "execution_count": 74,
     "metadata": {},
     "output_type": "execute_result"
    }
   ],
   "source": [
    "X_train.shape"
   ]
  },
  {
   "cell_type": "code",
   "execution_count": 75,
   "metadata": {},
   "outputs": [],
   "source": [
    "X_test = np.array(list(map(partial(encode_link, network=network_train, weight='weight', size=10), all_links_test)))"
   ]
  },
  {
   "cell_type": "code",
   "execution_count": 76,
   "metadata": {},
   "outputs": [],
   "source": [
    "from sklearn.utils import shuffle\n",
    "X_train_shuffle, y_train_shuffle = shuffle(X_train, y_train)"
   ]
  },
  {
   "cell_type": "code",
   "execution_count": 77,
   "metadata": {},
   "outputs": [
    {
     "data": {
      "text/plain": [
       "((5739, 44), (5739,))"
      ]
     },
     "execution_count": 77,
     "metadata": {},
     "output_type": "execute_result"
    }
   ],
   "source": [
    "X_train_shuffle.shape, y_train.shape"
   ]
  },
  {
   "cell_type": "markdown",
   "metadata": {},
   "source": [
    "## Neural Network Learning"
   ]
  },
  {
   "cell_type": "code",
   "execution_count": 78,
   "metadata": {},
   "outputs": [],
   "source": [
    "from sklearn.neural_network import MLPClassifier"
   ]
  },
  {
   "cell_type": "code",
   "execution_count": 79,
   "metadata": {},
   "outputs": [],
   "source": [
    "model = MLPClassifier(hidden_layer_sizes=(32, 32, 16),\n",
    "                      alpha=1e-3,\n",
    "                      batch_size=128,\n",
    "                      learning_rate_init=0.001,\n",
    "                      max_iter=100,\n",
    "                      verbose=True,\n",
    "                      early_stopping=False,\n",
    "                      tol=-10000)"
   ]
  },
  {
   "cell_type": "code",
   "execution_count": 80,
   "metadata": {},
   "outputs": [
    {
     "name": "stdout",
     "output_type": "stream",
     "text": [
      "Iteration 1, loss = 0.60553938\n",
      "Iteration 2, loss = 0.36856008\n",
      "Iteration 3, loss = 0.29921278\n",
      "Iteration 4, loss = 0.27557887\n",
      "Iteration 5, loss = 0.26432179\n",
      "Iteration 6, loss = 0.25284156\n",
      "Iteration 7, loss = 0.24676931\n",
      "Iteration 8, loss = 0.23968218\n",
      "Iteration 9, loss = 0.23594479\n",
      "Iteration 10, loss = 0.23085988\n",
      "Iteration 11, loss = 0.22782874\n",
      "Iteration 12, loss = 0.22406891\n",
      "Iteration 13, loss = 0.22050878\n",
      "Iteration 14, loss = 0.21808646\n",
      "Iteration 15, loss = 0.22032729\n",
      "Iteration 16, loss = 0.21285005\n",
      "Iteration 17, loss = 0.21162807\n",
      "Iteration 18, loss = 0.20600683\n",
      "Iteration 19, loss = 0.20273449\n",
      "Iteration 20, loss = 0.20223407\n",
      "Iteration 21, loss = 0.20006986\n",
      "Iteration 22, loss = 0.19742621\n",
      "Iteration 23, loss = 0.19942512\n",
      "Iteration 24, loss = 0.19452788\n",
      "Iteration 25, loss = 0.19523408\n",
      "Iteration 26, loss = 0.19511215\n",
      "Iteration 27, loss = 0.19040171\n",
      "Iteration 28, loss = 0.18989748\n",
      "Iteration 29, loss = 0.18629454\n",
      "Iteration 30, loss = 0.18410081\n",
      "Iteration 31, loss = 0.18312447\n",
      "Iteration 32, loss = 0.18379446\n",
      "Iteration 33, loss = 0.17985571\n",
      "Iteration 34, loss = 0.18671395\n",
      "Iteration 35, loss = 0.17988163\n",
      "Iteration 36, loss = 0.17759697\n",
      "Iteration 37, loss = 0.17618706\n",
      "Iteration 38, loss = 0.17385579\n",
      "Iteration 39, loss = 0.17287787\n",
      "Iteration 40, loss = 0.16999973\n",
      "Iteration 41, loss = 0.17161735\n",
      "Iteration 42, loss = 0.16916621\n",
      "Iteration 43, loss = 0.17037410\n",
      "Iteration 44, loss = 0.16877863\n",
      "Iteration 45, loss = 0.16812678\n",
      "Iteration 46, loss = 0.16684498\n",
      "Iteration 47, loss = 0.16355526\n",
      "Iteration 48, loss = 0.16605678\n",
      "Iteration 49, loss = 0.16367193\n",
      "Iteration 50, loss = 0.15943810\n",
      "Iteration 51, loss = 0.15932758\n",
      "Iteration 52, loss = 0.15848709\n",
      "Iteration 53, loss = 0.15675373\n",
      "Iteration 54, loss = 0.16220057\n",
      "Iteration 55, loss = 0.15702810\n",
      "Iteration 56, loss = 0.15601435\n",
      "Iteration 57, loss = 0.15343072\n",
      "Iteration 58, loss = 0.15592994\n",
      "Iteration 59, loss = 0.15199884\n",
      "Iteration 60, loss = 0.15076091\n",
      "Iteration 61, loss = 0.14808239\n",
      "Iteration 62, loss = 0.14724010\n",
      "Iteration 63, loss = 0.14520984\n",
      "Iteration 64, loss = 0.14502205\n",
      "Iteration 65, loss = 0.14471958\n",
      "Iteration 66, loss = 0.14388099\n",
      "Iteration 67, loss = 0.14379415\n",
      "Iteration 68, loss = 0.14150850\n",
      "Iteration 69, loss = 0.14493478\n",
      "Iteration 70, loss = 0.14629311\n",
      "Iteration 71, loss = 0.13945742\n",
      "Iteration 72, loss = 0.14190251\n",
      "Iteration 73, loss = 0.14398216\n",
      "Iteration 74, loss = 0.13468074\n",
      "Iteration 75, loss = 0.13439119\n",
      "Iteration 76, loss = 0.13339756\n",
      "Iteration 77, loss = 0.13397346\n",
      "Iteration 78, loss = 0.13221110\n",
      "Iteration 79, loss = 0.13240522\n",
      "Iteration 80, loss = 0.13199725\n",
      "Iteration 81, loss = 0.13014114\n",
      "Iteration 82, loss = 0.12629451\n",
      "Iteration 83, loss = 0.12788717\n",
      "Iteration 84, loss = 0.13201606\n",
      "Iteration 85, loss = 0.12762870\n",
      "Iteration 86, loss = 0.13126590\n",
      "Iteration 87, loss = 0.12417455\n",
      "Iteration 88, loss = 0.12159142\n",
      "Iteration 89, loss = 0.12278876\n",
      "Iteration 90, loss = 0.12325123\n",
      "Iteration 91, loss = 0.11886860\n",
      "Iteration 92, loss = 0.12122471\n",
      "Iteration 93, loss = 0.11882965\n",
      "Iteration 94, loss = 0.12326476\n",
      "Iteration 95, loss = 0.11721869\n",
      "Iteration 96, loss = 0.11519991\n",
      "Iteration 97, loss = 0.11643442\n",
      "Iteration 98, loss = 0.11772516\n",
      "Iteration 99, loss = 0.11580466\n",
      "Iteration 100, loss = 0.11470472\n"
     ]
    },
    {
     "name": "stderr",
     "output_type": "stream",
     "text": [
      "/home/kienmn/Workspace/JupyterWorkspace/jupyter_env/lib/python3.6/site-packages/sklearn/neural_network/multilayer_perceptron.py:566: ConvergenceWarning: Stochastic Optimizer: Maximum iterations (100) reached and the optimization hasn't converged yet.\n",
      "  % self.max_iter, ConvergenceWarning)\n"
     ]
    },
    {
     "data": {
      "text/plain": [
       "MLPClassifier(activation='relu', alpha=0.001, batch_size=128, beta_1=0.9,\n",
       "              beta_2=0.999, early_stopping=False, epsilon=1e-08,\n",
       "              hidden_layer_sizes=(32, 32, 16), learning_rate='constant',\n",
       "              learning_rate_init=0.001, max_iter=100, momentum=0.9,\n",
       "              n_iter_no_change=10, nesterovs_momentum=True, power_t=0.5,\n",
       "              random_state=None, shuffle=True, solver='adam', tol=-10000,\n",
       "              validation_fraction=0.1, verbose=True, warm_start=False)"
      ]
     },
     "execution_count": 80,
     "metadata": {},
     "output_type": "execute_result"
    }
   ],
   "source": [
    "model.fit(X_train_shuffle, y_train_shuffle)"
   ]
  },
  {
   "cell_type": "code",
   "execution_count": 81,
   "metadata": {},
   "outputs": [],
   "source": [
    "predictions = model.predict(X_test)"
   ]
  },
  {
   "cell_type": "code",
   "execution_count": 82,
   "metadata": {},
   "outputs": [],
   "source": [
    "from sklearn import metrics"
   ]
  },
  {
   "cell_type": "code",
   "execution_count": 83,
   "metadata": {},
   "outputs": [
    {
     "name": "stdout",
     "output_type": "stream",
     "text": [
      "0.8838028169014084\n"
     ]
    }
   ],
   "source": [
    "fpr, tpr, thresholds = metrics.roc_curve(label_test, predictions, pos_label=1)\n",
    "auc = metrics.auc(fpr, tpr)\n",
    "print(auc)"
   ]
  }
 ],
 "metadata": {
  "kernelspec": {
   "display_name": "jupyter_env",
   "language": "python",
   "name": "jupyter_env"
  },
  "language_info": {
   "codemirror_mode": {
    "name": "ipython",
    "version": 3
   },
   "file_extension": ".py",
   "mimetype": "text/x-python",
   "name": "python",
   "nbconvert_exporter": "python",
   "pygments_lexer": "ipython3",
   "version": "3.6.8"
  }
 },
 "nbformat": 4,
 "nbformat_minor": 4
}
